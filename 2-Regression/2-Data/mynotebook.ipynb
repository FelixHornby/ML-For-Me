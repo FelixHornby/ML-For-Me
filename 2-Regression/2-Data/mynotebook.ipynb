{
 "cells": [
  {
   "attachments": {},
   "cell_type": "markdown",
   "metadata": {},
   "source": [
    " 读取csv数据文件，查看前10行数据"
   ]
  },
  {
   "cell_type": "code",
   "execution_count": null,
   "metadata": {},
   "outputs": [],
   "source": [
    "import pandas as pd\n",
    "pumpkins= pd.read_csv(\"../data/US-pumpkins.csv\")\n",
    "pumpkins.head(10)"
   ]
  },
  {
   "cell_type": "code",
   "execution_count": null,
   "metadata": {},
   "outputs": [],
   "source": [
    "pumpkins.isnull().sum()"
   ]
  },
  {
   "attachments": {},
   "cell_type": "markdown",
   "metadata": {},
   "source": [
    "删除空值较少列的行，因为下面将要把有空值的列删掉。"
   ]
  },
  {
   "cell_type": "code",
   "execution_count": null,
   "metadata": {},
   "outputs": [],
   "source": [
    "pumpkins = pumpkins.dropna(subset=['Variety', 'Origin']) # 移除两列中值为空的行\n",
    "pumpkins.isnull().sum()"
   ]
  },
  {
   "cell_type": "code",
   "execution_count": null,
   "metadata": {},
   "outputs": [],
   "source": [
    "pumpkins= pumpkins.dropna(axis=1) #移除有空值的列\n",
    "pumpkins.head(10)"
   ]
  },
  {
   "attachments": {},
   "cell_type": "markdown",
   "metadata": {},
   "source": [
    "价格与打包规格有关，但数据中规格五花八门，这里先选择 bushel 的数据"
   ]
  },
  {
   "cell_type": "code",
   "execution_count": null,
   "metadata": {},
   "outputs": [],
   "source": [
    "pumpkins[\"Package\"].drop_duplicates() #去重\n",
    "pumpkins[\"Package\"].value_counts() #个数"
   ]
  },
  {
   "cell_type": "code",
   "execution_count": null,
   "metadata": {},
   "outputs": [],
   "source": [
    "index=pumpkins['Package'].str.contains('bushel', case=True, regex=True) #Series 其中包含了布尔值，指示每个元素是否包含指定的字符串。\n",
    "\n",
    "bushel_pks = pumpkins[index].copy()\n",
    "bushel_pks.head(10)"
   ]
  },
  {
   "attachments": {},
   "cell_type": "markdown",
   "metadata": {},
   "source": [
    "\n",
    "loc是Pandas库中的一个方法，用于基于标签（label）进行数据索引和选择。它允许您按照行和列的标签来访问和操作数据。\n",
    "dataframe.loc[row_label, column_label]"
   ]
  },
  {
   "cell_type": "code",
   "execution_count": null,
   "metadata": {},
   "outputs": [],
   "source": [
    "#bushel_pks.loc[bushel_pks[\"Package\"].str.contains('1 1/9'), 'Price'] = (bushel_pks[\"Low Price\"] + bushel_pks[\"High Price\"]) / 2 / (1 + 1/9)\n",
    "\n",
    "\n",
    "\n",
    "bushel_pks.loc[bushel_pks[\"Package\"].str.contains('1 1/9'),'Price']=(bushel_pks[\"Low Price\"]+bushel_pks[\"High Price\"])/2/(1+1/9)\n",
    "# bushel_pks.loc[ bushel_pks[\"Package\"].str.contains('1/2')].head()   条件查询符合条件的行\n",
    "bushel_pks.loc[bushel_pks[\"Package\"].str.contains('1/2'),'Price']=(bushel_pks[\"Low Price\"]+bushel_pks[\"High Price\"])/2/(1/2)"
   ]
  },
  {
   "cell_type": "code",
   "execution_count": null,
   "metadata": {},
   "outputs": [],
   "source": [
    "pumpkins.head()"
   ]
  },
  {
   "cell_type": "code",
   "execution_count": null,
   "metadata": {},
   "outputs": [],
   "source": [
    "ps_2=bushel_pks.loc[ bushel_pks[\"Package\"].str.contains('1/2')].head()\n",
    "ps_9=bushel_pks.loc[ bushel_pks[\"Package\"].str.contains('1 1/9')].head()\n",
    "\n",
    "pd.concat([ps_2,ps_9])"
   ]
  },
  {
   "cell_type": "markdown",
   "metadata": {},
   "source": [
    "将'Date'列中的每个日期转换为DatetimeIndex对象，并使用.month属性提取出每个日期的月份"
   ]
  },
  {
   "cell_type": "code",
   "execution_count": null,
   "metadata": {},
   "outputs": [],
   "source": [
    "month = pd.DatetimeIndex(bushel_pks['Date']).month\n",
    "\n",
    "\n",
    "\n",
    "new_pks=pd.DataFrame({'Month':month,'Package':bushel_pks[\"Package\"],'City':bushel_pks[\"City Name\"],'Price':bushel_pks[\"Price\"]})\n",
    "\n",
    "new_pks"
   ]
  },
  {
   "cell_type": "markdown",
   "metadata": {},
   "source": [
    "使用plt.scatter函数，将'price'作为x轴数据，'month'作为y轴数据，创建一个散点图。最后，使用plt.show()函数显示图形。"
   ]
  },
  {
   "cell_type": "code",
   "execution_count": null,
   "metadata": {},
   "outputs": [],
   "source": [
    "import matplotlib.pyplot as plt\n",
    "\n",
    "price = new_pks.Price\n",
    "month = new_pks.Month\n",
    "plt.scatter(price, month)\n",
    "plt.show()"
   ]
  },
  {
   "cell_type": "markdown",
   "metadata": {},
   "source": [
    "使用pandas库的groupby函数对数据框new_pks进行分组操作。首先，它根据'Month'列对数据进行分组，然后使用['Price']选择了'Price'列作为我们感兴趣的数据。接着，使用mean函数计算每个月份的平均价格。最后，使用plot函数以柱状图的形式绘制了每个月份的平均价格。\n",
    "代码中的plt.ylabel(\"Pumpkin Price\")用于设置y轴的标签，即柱状图的纵坐标的标签。这里将标签设置为\"Pumpkin Price\"，以指明柱状图表示的是南瓜价格。"
   ]
  },
  {
   "cell_type": "code",
   "execution_count": null,
   "metadata": {},
   "outputs": [],
   "source": [
    "new_pks.groupby(['Month'])['Price'].mean().plot(kind='bar')\n",
    "plt.ylabel(\"Pumpkin Price\")"
   ]
  }
 ],
 "metadata": {
  "kernelspec": {
   "display_name": "Python 3",
   "language": "python",
   "name": "python3"
  },
  "language_info": {
   "codemirror_mode": {
    "name": "ipython",
    "version": 3
   },
   "file_extension": ".py",
   "mimetype": "text/x-python",
   "name": "python",
   "nbconvert_exporter": "python",
   "pygments_lexer": "ipython3",
   "version": "3.11.4"
  },
  "orig_nbformat": 2
 },
 "nbformat": 4,
 "nbformat_minor": 2
}
